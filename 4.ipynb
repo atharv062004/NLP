{
 "cells": [
  {
   "cell_type": "code",
   "execution_count": 1,
   "id": "8962b3f6",
   "metadata": {},
   "outputs": [
    {
     "name": "stdout",
     "output_type": "stream",
     "text": [
      "------[4. Semantic Relations using WordNet]------\n"
     ]
    },
    {
     "name": "stderr",
     "output_type": "stream",
     "text": [
      "[nltk_data] Downloading package wordnet to\n",
      "[nltk_data]     C:\\Users\\zinju\\AppData\\Roaming\\nltk_data...\n"
     ]
    },
    {
     "name": "stdout",
     "output_type": "stream",
     "text": [
      "bank.n.01 : sloping land (especially the slope beside a body of water)\n",
      "depository_financial_institution.n.01 : a financial institution that accepts deposits and channels the money into lending activities\n",
      "bank.n.03 : a long ridge or pile\n",
      "bank.n.04 : an arrangement of similar objects in a row or in tiers\n",
      "bank.n.05 : a supply or stock held in reserve for future use (especially in emergencies)\n",
      "bank.n.06 : the funds held by a gambling house or the dealer in some gambling games\n",
      "bank.n.07 : a slope in the turn of a road or track; the outside is higher than the inside in order to reduce the effects of centrifugal force\n",
      "savings_bank.n.02 : a container (usually with a slot in the top) for keeping money at home\n",
      "bank.n.09 : a building in which the business of banking transacted\n",
      "bank.n.10 : a flight maneuver; aircraft tips laterally about its longitudinal axis (especially in turning)\n",
      "bank.v.01 : tip laterally\n",
      "bank.v.02 : enclose with a bank\n",
      "bank.v.03 : do business with a bank or keep an account at a bank\n",
      "bank.v.04 : act as the banker in a game or in gambling\n",
      "bank.v.05 : be in the banking business\n",
      "deposit.v.02 : put into a bank account\n",
      "bank.v.07 : cover with ashes so to control the rate of burning\n",
      "trust.v.01 : have confidence or faith in\n",
      "Tokens: ['The', 'bank', 'was', 'flooded', 'during', 'the', 'storm', '.']\n",
      "Vocabulary: ['bank' 'during' 'flooded' 'storm' 'the' 'was']\n",
      "BoW Matrix: [[1 1 1 1 2 1]]\n"
     ]
    }
   ],
   "source": [
    "print(\"------[4. Semantic Relations using WordNet]------\")\n",
    "from nltk.corpus import wordnet\n",
    "import nltk\n",
    "nltk.download('wordnet')\n",
    "\n",
    "word = \"bank\"\n",
    "synsets = wordnet.synsets(word)\n",
    "for syn in synsets:\n",
    "    print(syn.name(), \":\", syn.definition())\n",
    "\n",
    "# Tokenization and BoW\n",
    "from nltk.tokenize import word_tokenize\n",
    "from sklearn.feature_extraction.text import CountVectorizer\n",
    "text = \"The bank was flooded during the storm.\"\n",
    "tokens = word_tokenize(text)\n",
    "print(\"Tokens:\", tokens)\n",
    "\n",
    "vectorizer = CountVectorizer()\n",
    "X = vectorizer.fit_transform([text])\n",
    "print(\"Vocabulary:\", vectorizer.get_feature_names_out())\n",
    "print(\"BoW Matrix:\", X.toarray())\n"
   ]
  },
  {
   "cell_type": "code",
   "execution_count": null,
   "id": "03e0637d",
   "metadata": {},
   "outputs": [],
   "source": []
  }
 ],
 "metadata": {
  "kernelspec": {
   "display_name": "Python 3",
   "language": "python",
   "name": "python3"
  },
  "language_info": {
   "codemirror_mode": {
    "name": "ipython",
    "version": 3
   },
   "file_extension": ".py",
   "mimetype": "text/x-python",
   "name": "python",
   "nbconvert_exporter": "python",
   "pygments_lexer": "ipython3",
   "version": "3.11.8"
  }
 },
 "nbformat": 4,
 "nbformat_minor": 5
}
