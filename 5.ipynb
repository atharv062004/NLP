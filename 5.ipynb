{
 "cells": [
  {
   "cell_type": "code",
   "execution_count": 1,
   "id": "640647cb",
   "metadata": {},
   "outputs": [
    {
     "name": "stdout",
     "output_type": "stream",
     "text": [
      "------[5. N-Gram Model]------\n",
      "Bigrams: [('I', 'love'), ('love', 'learning'), ('learning', 'NLP'), ('NLP', 'with'), ('with', 'Python')]\n",
      "Trigrams: [('I', 'love', 'learning'), ('love', 'learning', 'NLP'), ('learning', 'NLP', 'with'), ('NLP', 'with', 'Python')]\n",
      "Vocabulary: ['learning' 'love' 'nlp' 'python' 'with']\n",
      "BoW Matrix: [[1 1 1 1 1]]\n"
     ]
    },
    {
     "name": "stderr",
     "output_type": "stream",
     "text": [
      "[nltk_data] Downloading package punkt to\n",
      "[nltk_data]     C:\\Users\\zinju\\AppData\\Roaming\\nltk_data...\n",
      "[nltk_data]   Package punkt is already up-to-date!\n"
     ]
    }
   ],
   "source": [
    "print(\"------[5. N-Gram Model]------\")\n",
    "from nltk import ngrams, word_tokenize\n",
    "import nltk\n",
    "nltk.download('punkt')\n",
    "\n",
    "text = \"I love learning NLP with Python\"\n",
    "tokens = word_tokenize(text)\n",
    "print(\"Bigrams:\", list(ngrams(tokens, 2)))\n",
    "print(\"Trigrams:\", list(ngrams(tokens, 3)))\n",
    "\n",
    "# Tokenization and BoW\n",
    "from sklearn.feature_extraction.text import CountVectorizer\n",
    "vectorizer = CountVectorizer()\n",
    "X = vectorizer.fit_transform([text])\n",
    "print(\"Vocabulary:\", vectorizer.get_feature_names_out())\n",
    "print(\"BoW Matrix:\", X.toarray())\n"
   ]
  },
  {
   "cell_type": "code",
   "execution_count": null,
   "id": "530b747d",
   "metadata": {},
   "outputs": [],
   "source": []
  }
 ],
 "metadata": {
  "kernelspec": {
   "display_name": "Python 3",
   "language": "python",
   "name": "python3"
  },
  "language_info": {
   "codemirror_mode": {
    "name": "ipython",
    "version": 3
   },
   "file_extension": ".py",
   "mimetype": "text/x-python",
   "name": "python",
   "nbconvert_exporter": "python",
   "pygments_lexer": "ipython3",
   "version": "3.11.8"
  }
 },
 "nbformat": 4,
 "nbformat_minor": 5
}
