{
 "cells": [
  {
   "cell_type": "code",
   "execution_count": 3,
   "id": "56dd87b1",
   "metadata": {},
   "outputs": [
    {
     "name": "stdout",
     "output_type": "stream",
     "text": [
      "------[2. Morphology using Add/Delete]------\n",
      "run: {'root': 'run', 'tense': 'present'}\n",
      "Tokens: ['Run', 'and', 'running', 'are', 'forms', 'of', 'the', 'same', 'root', 'verb', '.']\n",
      "Vocabulary: ['and' 'are' 'forms' 'of' 'root' 'run' 'running' 'same' 'the' 'verb']\n",
      "BoW Matrix: [[1 1 1 1 1 1 1 1 1 1]]\n"
     ]
    },
    {
     "name": "stderr",
     "output_type": "stream",
     "text": [
      "[nltk_data] Downloading package punkt to\n",
      "[nltk_data]     C:\\Users\\zinju\\AppData\\Roaming\\nltk_data...\n",
      "[nltk_data]   Package punkt is already up-to-date!\n"
     ]
    }
   ],
   "source": [
    "print(\"------[2. Morphology using Add/Delete]------\")\n",
    "morph_table = {\n",
    "    \"run\": {\"root\": \"run\", \"tense\": \"present\"},\n",
    "    \"running\": {\"root\": \"run\", \"tense\": \"continuous\"}\n",
    "}\n",
    "del morph_table[\"running\"]\n",
    "for word, features in morph_table.items():\n",
    "    print(f\"{word}: {features}\")\n",
    "\n",
    "# Tokenization and BoW\n",
    "from nltk.tokenize import word_tokenize\n",
    "from sklearn.feature_extraction.text import CountVectorizer\n",
    "import nltk\n",
    "nltk.download('punkt')\n",
    "\n",
    "text = \"Run and running are forms of the same root verb.\"\n",
    "tokens = word_tokenize(text)\n",
    "print(\"Tokens:\", tokens)\n",
    "\n",
    "vectorizer = CountVectorizer()\n",
    "X = vectorizer.fit_transform([text])\n",
    "print(\"Vocabulary:\", vectorizer.get_feature_names_out())\n",
    "print(\"BoW Matrix:\", X.toarray())\n"
   ]
  },
  {
   "cell_type": "code",
   "execution_count": null,
   "id": "b7b04062",
   "metadata": {},
   "outputs": [],
   "source": []
  },
  {
   "cell_type": "code",
   "execution_count": null,
   "id": "2c2ffcba",
   "metadata": {},
   "outputs": [],
   "source": []
  }
 ],
 "metadata": {
  "kernelspec": {
   "display_name": "Python 3",
   "language": "python",
   "name": "python3"
  },
  "language_info": {
   "codemirror_mode": {
    "name": "ipython",
    "version": 3
   },
   "file_extension": ".py",
   "mimetype": "text/x-python",
   "name": "python",
   "nbconvert_exporter": "python",
   "pygments_lexer": "ipython3",
   "version": "3.11.8"
  }
 },
 "nbformat": 4,
 "nbformat_minor": 5
}
